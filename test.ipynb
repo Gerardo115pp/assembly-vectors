{
 "cells": [
  {
   "cell_type": "code",
   "execution_count": 1,
   "source": [
    "import numpy as np"
   ],
   "outputs": [],
   "metadata": {}
  },
  {
   "cell_type": "code",
   "execution_count": 3,
   "source": [
    "def loadVectorFromFile(filename):\n",
    "    with open(filename, 'r') as f:\n",
    "        return np.array([float(x) for x in f.read().split(\":\")])"
   ],
   "outputs": [],
   "metadata": {}
  },
  {
   "cell_type": "code",
   "execution_count": 5,
   "source": [
    "a = loadVectorFromFile(\"vector_a\")\n",
    "b = loadVectorFromFile(\"vector_b\")"
   ],
   "outputs": [],
   "metadata": {}
  },
  {
   "cell_type": "code",
   "execution_count": 9,
   "source": [
    "print(\"a:\", a)\n",
    "print(\"b:\", b)"
   ],
   "outputs": [
    {
     "output_type": "stream",
     "name": "stdout",
     "text": [
      "a: [  140.   317. 11700.  1510.   209.   901.   111.    13.]\n",
      "b: [ 10. 500. 240.  11. 960. 777.   6.  10.]\n"
     ]
    }
   ],
   "metadata": {}
  },
  {
   "cell_type": "markdown",
   "source": [
    "<center>\n",
    "    <h2>Addition</h2>\n",
    "</center>"
   ],
   "metadata": {}
  },
  {
   "cell_type": "code",
   "execution_count": 11,
   "source": [
    "a + b"
   ],
   "outputs": [
    {
     "output_type": "execute_result",
     "data": {
      "text/plain": [
       "array([  150.,   817., 11940.,  1521.,  1169.,  1678.,   117.,    23.])"
      ]
     },
     "metadata": {},
     "execution_count": 11
    }
   ],
   "metadata": {}
  },
  {
   "cell_type": "markdown",
   "source": [
    "<center>\n",
    "    <h2>Dot product</h2>\n",
    "</center>"
   ],
   "metadata": {}
  },
  {
   "cell_type": "code",
   "execution_count": 14,
   "source": [
    "print(a@b)"
   ],
   "outputs": [
    {
     "output_type": "stream",
     "name": "stdout",
     "text": [
      "3886023.0\n"
     ]
    }
   ],
   "metadata": {}
  },
  {
   "cell_type": "code",
   "execution_count": null,
   "source": [
    "# python implementation of the vector reading algorithm that will be implemented in asm\n",
    "def loadVector(vector_str:str):\n",
    "    length = len(vector_str) - 1 \n",
    "    vector = np.zeros(100)\n",
    "    position_value = 1\n",
    "    current_value = 0\n",
    "    h = length\n",
    "    while h > 0\n",
    "        current_value += (vector_str[h] + 48) * position_value\n",
    "        position_value *= 10\n",
    "        h -= 1\n",
    "        if vector_str[h] == ':':\n",
    "            vector[h+1] = current_value\n",
    "            current_value = 0\n",
    "            position_value = 1\n",
    "    return vector\n",
    "    vector.append(current_value)\n",
    "    return vector\n",
    "        \n",
    "        "
   ],
   "outputs": [],
   "metadata": {}
  }
 ],
 "metadata": {
  "orig_nbformat": 4,
  "language_info": {
   "name": "python",
   "version": "3.9.7",
   "mimetype": "text/x-python",
   "codemirror_mode": {
    "name": "ipython",
    "version": 3
   },
   "pygments_lexer": "ipython3",
   "nbconvert_exporter": "python",
   "file_extension": ".py"
  },
  "kernelspec": {
   "name": "python3",
   "display_name": "Python 3.9.7 64-bit"
  },
  "interpreter": {
   "hash": "e7370f93d1d0cde622a1f8e1c04877d8463912d04d973331ad4851f04de6915a"
  }
 },
 "nbformat": 4,
 "nbformat_minor": 2
}